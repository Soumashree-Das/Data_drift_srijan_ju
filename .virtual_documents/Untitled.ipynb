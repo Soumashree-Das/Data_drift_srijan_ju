import pandas as pd
import numpy as np
import seaborn as sns
import matplotlib.pyplot as plt
!pip install openpyxl



data = pd.read_excel('Dataset.xlsx')
data.head()


data.info()


data.isnull().sum()


print(data.isnull().values.any())



print(data[data.isnull().any(axis=1)])



data_cleaned = data.dropna()
data_cleaned.head()


print(data_cleaned.isnull().values.any())



duplicates = data_cleaned[data_cleaned.duplicated()]
print(duplicates)
print()
print(data.duplicated().sum())



data_cleaned = data_cleaned.drop_duplicates()
data_cleaned.head()


data_cleaned.duplicated().sum()


def clean_text(text):
    if isinstance(text, str):
        return text.strip().title()
    return text

columns_to_clean = [
    'District Name', 'Accident_Classification', 'Accident_Spot',
    'Urban / Rural', 'Accident Location', 'Cause', 'Accident Severity',
    'Junction Control', 'Road_Character', 'Road_Type', 'Surface_Type',
    'Surface_Condition', 'Road_Condition', 'Weather Condition', 'Lane_Type'
]

for col in columns_to_clean:
    data_cleaned[col] = data_cleaned[col].apply(clean_text)

for col in columns_to_clean:
    print(f"Unique values in {col}:")
    print(data_cleaned[col].unique())
    print("\n")


data_cleaned = data_cleaned.replace(
    to_replace=r'(?i)\bnot applicable\b',  # regex: case-insensitive match
    value='NA',
    regex=True
)

# Step 2: Convert all 'NA' values to np.nan
data_cleaned.replace('NA', np.nan, inplace=True)

# Step 3: Drop rows with any null value
data_cleaned.dropna(inplace=True)

# Optional: Reset index after dropping
data_cleaned.reset_index(drop=True, inplace=True)

print("Cleaned dataset shape:", data_cleaned.shape)


import matplotlib.pyplot as plt
import seaborn as sns

# Count top 5 districts with most accidents
top_districts = data_cleaned['District Name'].value_counts().head(5)

# Plot
plt.figure(figsize=(8,5))
sns.barplot(x=top_districts.values, y=top_districts.index, palette='mako')
plt.title('Top 5 Districts by Number of Accidents')
plt.xlabel('Number of Accidents')
plt.ylabel('District')
plt.tight_layout()
plt.show()


severity_counts = data_cleaned['Accident Severity'].value_counts()

plt.figure(figsize=(6,6))
plt.pie(severity_counts, labels=severity_counts.index, autopct='%1.1f%%', colors=sns.color_palette('pastel'))
plt.title('Accident Severity Distribution')
plt.axis('equal')
plt.show()






